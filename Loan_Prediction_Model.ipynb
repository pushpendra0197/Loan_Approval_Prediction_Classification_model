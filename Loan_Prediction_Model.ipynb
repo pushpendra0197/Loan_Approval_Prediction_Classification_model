{
 "cells": [
  {
   "cell_type": "markdown",
   "id": "d5f0f74f-20e1-4076-8877-7b80e9e600f8",
   "metadata": {},
   "source": [
    "Loan approval model based on Users criteria"
   ]
  },
  {
   "cell_type": "markdown",
   "id": "0c25f5ce-96e4-411a-b00f-d263af6959ea",
   "metadata": {},
   "source": [
    "Importing Libraries "
   ]
  },
  {
   "cell_type": "code",
   "execution_count": 9,
   "id": "1e0ab8e5-4365-423e-8ed5-7c58250b0c6f",
   "metadata": {},
   "outputs": [],
   "source": [
    "import numpy as np\n",
    "import pandas as pd\n",
    "import matplotlib.pyplot as plt\n",
    "%matplotlib inline\n",
    "import seaborn as sns"
   ]
  },
  {
   "cell_type": "code",
   "execution_count": 10,
   "id": "efcf171f-42ad-49fe-a565-5c8ebcd89ed0",
   "metadata": {},
   "outputs": [],
   "source": [
    "df1=pd.read_csv(r\"loan.csv\")"
   ]
  },
  {
   "cell_type": "code",
   "execution_count": 11,
   "id": "69a1ae5a-514d-40e6-a27b-8ff6582b01a8",
   "metadata": {},
   "outputs": [
    {
     "name": "stdout",
     "output_type": "stream",
     "text": [
      "<class 'pandas.core.frame.DataFrame'>\n",
      "RangeIndex: 61 entries, 0 to 60\n",
      "Data columns (total 8 columns):\n",
      " #   Column           Non-Null Count  Dtype \n",
      "---  ------           --------------  ----- \n",
      " 0   age              61 non-null     int64 \n",
      " 1   gender           61 non-null     object\n",
      " 2   occupation       61 non-null     object\n",
      " 3   education_level  61 non-null     object\n",
      " 4   marital_status   61 non-null     object\n",
      " 5   income           61 non-null     int64 \n",
      " 6   credit_score     61 non-null     int64 \n",
      " 7   loan_status      61 non-null     object\n",
      "dtypes: int64(3), object(5)\n",
      "memory usage: 3.9+ KB\n"
     ]
    }
   ],
   "source": [
    "df1.info()"
   ]
  },
  {
   "cell_type": "code",
   "execution_count": 12,
   "id": "849aedd8-d853-4945-af82-d6bb0934f186",
   "metadata": {},
   "outputs": [
    {
     "data": {
      "text/plain": [
       "age                32\n",
       "gender              2\n",
       "occupation         38\n",
       "education_level     5\n",
       "marital_status      2\n",
       "income             40\n",
       "credit_score       28\n",
       "loan_status         2\n",
       "dtype: int64"
      ]
     },
     "execution_count": 12,
     "metadata": {},
     "output_type": "execute_result"
    }
   ],
   "source": [
    "df1.nunique()"
   ]
  },
  {
   "cell_type": "code",
   "execution_count": 13,
   "id": "de725b72-8251-46bf-9e51-ca35fd7b2721",
   "metadata": {},
   "outputs": [
    {
     "data": {
      "text/html": [
       "<div>\n",
       "<style scoped>\n",
       "    .dataframe tbody tr th:only-of-type {\n",
       "        vertical-align: middle;\n",
       "    }\n",
       "\n",
       "    .dataframe tbody tr th {\n",
       "        vertical-align: top;\n",
       "    }\n",
       "\n",
       "    .dataframe thead th {\n",
       "        text-align: right;\n",
       "    }\n",
       "</style>\n",
       "<table border=\"1\" class=\"dataframe\">\n",
       "  <thead>\n",
       "    <tr style=\"text-align: right;\">\n",
       "      <th></th>\n",
       "      <th>age</th>\n",
       "      <th>income</th>\n",
       "      <th>credit_score</th>\n",
       "    </tr>\n",
       "  </thead>\n",
       "  <tbody>\n",
       "    <tr>\n",
       "      <th>count</th>\n",
       "      <td>61.000000</td>\n",
       "      <td>61.000000</td>\n",
       "      <td>61.000000</td>\n",
       "    </tr>\n",
       "    <tr>\n",
       "      <th>mean</th>\n",
       "      <td>37.081967</td>\n",
       "      <td>78983.606557</td>\n",
       "      <td>709.836066</td>\n",
       "    </tr>\n",
       "    <tr>\n",
       "      <th>std</th>\n",
       "      <td>8.424755</td>\n",
       "      <td>33772.025802</td>\n",
       "      <td>72.674888</td>\n",
       "    </tr>\n",
       "    <tr>\n",
       "      <th>min</th>\n",
       "      <td>24.000000</td>\n",
       "      <td>25000.000000</td>\n",
       "      <td>560.000000</td>\n",
       "    </tr>\n",
       "    <tr>\n",
       "      <th>25%</th>\n",
       "      <td>30.000000</td>\n",
       "      <td>52000.000000</td>\n",
       "      <td>650.000000</td>\n",
       "    </tr>\n",
       "    <tr>\n",
       "      <th>50%</th>\n",
       "      <td>36.000000</td>\n",
       "      <td>78000.000000</td>\n",
       "      <td>720.000000</td>\n",
       "    </tr>\n",
       "    <tr>\n",
       "      <th>75%</th>\n",
       "      <td>43.000000</td>\n",
       "      <td>98000.000000</td>\n",
       "      <td>770.000000</td>\n",
       "    </tr>\n",
       "    <tr>\n",
       "      <th>max</th>\n",
       "      <td>55.000000</td>\n",
       "      <td>180000.000000</td>\n",
       "      <td>830.000000</td>\n",
       "    </tr>\n",
       "  </tbody>\n",
       "</table>\n",
       "</div>"
      ],
      "text/plain": [
       "             age         income  credit_score\n",
       "count  61.000000      61.000000     61.000000\n",
       "mean   37.081967   78983.606557    709.836066\n",
       "std     8.424755   33772.025802     72.674888\n",
       "min    24.000000   25000.000000    560.000000\n",
       "25%    30.000000   52000.000000    650.000000\n",
       "50%    36.000000   78000.000000    720.000000\n",
       "75%    43.000000   98000.000000    770.000000\n",
       "max    55.000000  180000.000000    830.000000"
      ]
     },
     "execution_count": 13,
     "metadata": {},
     "output_type": "execute_result"
    }
   ],
   "source": [
    "df1.describe()"
   ]
  },
  {
   "cell_type": "code",
   "execution_count": 14,
   "id": "a61745a5-935e-4d60-8671-bad403cfad1b",
   "metadata": {},
   "outputs": [
    {
     "data": {
      "text/plain": [
       "Index(['age', 'gender', 'occupation', 'education_level', 'marital_status',\n",
       "       'income', 'credit_score', 'loan_status'],\n",
       "      dtype='object')"
      ]
     },
     "execution_count": 14,
     "metadata": {},
     "output_type": "execute_result"
    }
   ],
   "source": [
    "df1.columns"
   ]
  },
  {
   "cell_type": "code",
   "execution_count": 15,
   "id": "d1f2bf7b-5baa-4c92-a7f6-b37e12702c8b",
   "metadata": {},
   "outputs": [
    {
     "data": {
      "text/plain": [
       "loan_status\n",
       "Approved    45\n",
       "Denied      16\n",
       "Name: count, dtype: int64"
      ]
     },
     "execution_count": 15,
     "metadata": {},
     "output_type": "execute_result"
    }
   ],
   "source": [
    "df1[\"loan_status\"].value_counts()"
   ]
  },
  {
   "cell_type": "code",
   "execution_count": 16,
   "id": "944252b0-1d75-4f50-8db1-40be836c6c68",
   "metadata": {},
   "outputs": [
    {
     "data": {
      "text/html": [
       "<div>\n",
       "<style scoped>\n",
       "    .dataframe tbody tr th:only-of-type {\n",
       "        vertical-align: middle;\n",
       "    }\n",
       "\n",
       "    .dataframe tbody tr th {\n",
       "        vertical-align: top;\n",
       "    }\n",
       "\n",
       "    .dataframe thead th {\n",
       "        text-align: right;\n",
       "    }\n",
       "</style>\n",
       "<table border=\"1\" class=\"dataframe\">\n",
       "  <thead>\n",
       "    <tr style=\"text-align: right;\">\n",
       "      <th></th>\n",
       "      <th>age</th>\n",
       "      <th>gender</th>\n",
       "      <th>occupation</th>\n",
       "      <th>education_level</th>\n",
       "      <th>marital_status</th>\n",
       "      <th>income</th>\n",
       "      <th>credit_score</th>\n",
       "      <th>loan_status</th>\n",
       "    </tr>\n",
       "  </thead>\n",
       "  <tbody>\n",
       "    <tr>\n",
       "      <th>0</th>\n",
       "      <td>32</td>\n",
       "      <td>Male</td>\n",
       "      <td>Engineer</td>\n",
       "      <td>Bachelor's</td>\n",
       "      <td>Married</td>\n",
       "      <td>85000</td>\n",
       "      <td>720</td>\n",
       "      <td>Approved</td>\n",
       "    </tr>\n",
       "    <tr>\n",
       "      <th>1</th>\n",
       "      <td>45</td>\n",
       "      <td>Female</td>\n",
       "      <td>Teacher</td>\n",
       "      <td>Master's</td>\n",
       "      <td>Single</td>\n",
       "      <td>62000</td>\n",
       "      <td>680</td>\n",
       "      <td>Approved</td>\n",
       "    </tr>\n",
       "    <tr>\n",
       "      <th>2</th>\n",
       "      <td>28</td>\n",
       "      <td>Male</td>\n",
       "      <td>Student</td>\n",
       "      <td>High School</td>\n",
       "      <td>Single</td>\n",
       "      <td>25000</td>\n",
       "      <td>590</td>\n",
       "      <td>Denied</td>\n",
       "    </tr>\n",
       "    <tr>\n",
       "      <th>3</th>\n",
       "      <td>51</td>\n",
       "      <td>Female</td>\n",
       "      <td>Manager</td>\n",
       "      <td>Bachelor's</td>\n",
       "      <td>Married</td>\n",
       "      <td>105000</td>\n",
       "      <td>780</td>\n",
       "      <td>Approved</td>\n",
       "    </tr>\n",
       "    <tr>\n",
       "      <th>4</th>\n",
       "      <td>36</td>\n",
       "      <td>Male</td>\n",
       "      <td>Accountant</td>\n",
       "      <td>Bachelor's</td>\n",
       "      <td>Married</td>\n",
       "      <td>75000</td>\n",
       "      <td>710</td>\n",
       "      <td>Approved</td>\n",
       "    </tr>\n",
       "    <tr>\n",
       "      <th>...</th>\n",
       "      <td>...</td>\n",
       "      <td>...</td>\n",
       "      <td>...</td>\n",
       "      <td>...</td>\n",
       "      <td>...</td>\n",
       "      <td>...</td>\n",
       "      <td>...</td>\n",
       "      <td>...</td>\n",
       "    </tr>\n",
       "    <tr>\n",
       "      <th>56</th>\n",
       "      <td>39</td>\n",
       "      <td>Male</td>\n",
       "      <td>Architect</td>\n",
       "      <td>Master's</td>\n",
       "      <td>Married</td>\n",
       "      <td>100000</td>\n",
       "      <td>770</td>\n",
       "      <td>Approved</td>\n",
       "    </tr>\n",
       "    <tr>\n",
       "      <th>57</th>\n",
       "      <td>25</td>\n",
       "      <td>Female</td>\n",
       "      <td>Receptionist</td>\n",
       "      <td>High School</td>\n",
       "      <td>Single</td>\n",
       "      <td>32000</td>\n",
       "      <td>570</td>\n",
       "      <td>Denied</td>\n",
       "    </tr>\n",
       "    <tr>\n",
       "      <th>58</th>\n",
       "      <td>43</td>\n",
       "      <td>Male</td>\n",
       "      <td>Banker</td>\n",
       "      <td>Bachelor's</td>\n",
       "      <td>Married</td>\n",
       "      <td>95000</td>\n",
       "      <td>760</td>\n",
       "      <td>Approved</td>\n",
       "    </tr>\n",
       "    <tr>\n",
       "      <th>59</th>\n",
       "      <td>30</td>\n",
       "      <td>Female</td>\n",
       "      <td>Writer</td>\n",
       "      <td>Master's</td>\n",
       "      <td>Single</td>\n",
       "      <td>55000</td>\n",
       "      <td>650</td>\n",
       "      <td>Approved</td>\n",
       "    </tr>\n",
       "    <tr>\n",
       "      <th>60</th>\n",
       "      <td>38</td>\n",
       "      <td>Male</td>\n",
       "      <td>Chef</td>\n",
       "      <td>Associate's</td>\n",
       "      <td>Married</td>\n",
       "      <td>65000</td>\n",
       "      <td>700</td>\n",
       "      <td>Approved</td>\n",
       "    </tr>\n",
       "  </tbody>\n",
       "</table>\n",
       "<p>61 rows × 8 columns</p>\n",
       "</div>"
      ],
      "text/plain": [
       "    age  gender    occupation education_level marital_status  income  \\\n",
       "0    32    Male      Engineer      Bachelor's        Married   85000   \n",
       "1    45  Female       Teacher        Master's         Single   62000   \n",
       "2    28    Male       Student     High School         Single   25000   \n",
       "3    51  Female       Manager      Bachelor's        Married  105000   \n",
       "4    36    Male    Accountant      Bachelor's        Married   75000   \n",
       "..  ...     ...           ...             ...            ...     ...   \n",
       "56   39    Male     Architect        Master's        Married  100000   \n",
       "57   25  Female  Receptionist     High School         Single   32000   \n",
       "58   43    Male        Banker      Bachelor's        Married   95000   \n",
       "59   30  Female        Writer        Master's         Single   55000   \n",
       "60   38    Male          Chef     Associate's        Married   65000   \n",
       "\n",
       "    credit_score loan_status  \n",
       "0            720    Approved  \n",
       "1            680    Approved  \n",
       "2            590      Denied  \n",
       "3            780    Approved  \n",
       "4            710    Approved  \n",
       "..           ...         ...  \n",
       "56           770    Approved  \n",
       "57           570      Denied  \n",
       "58           760    Approved  \n",
       "59           650    Approved  \n",
       "60           700    Approved  \n",
       "\n",
       "[61 rows x 8 columns]"
      ]
     },
     "execution_count": 16,
     "metadata": {},
     "output_type": "execute_result"
    }
   ],
   "source": [
    "df1"
   ]
  },
  {
   "cell_type": "code",
   "execution_count": 17,
   "id": "cb161872-b621-4ffe-b777-dde8c39250eb",
   "metadata": {},
   "outputs": [
    {
     "data": {
      "text/plain": [
       "age                0\n",
       "gender             0\n",
       "occupation         0\n",
       "education_level    0\n",
       "marital_status     0\n",
       "income             0\n",
       "credit_score       0\n",
       "loan_status        0\n",
       "dtype: int64"
      ]
     },
     "execution_count": 17,
     "metadata": {},
     "output_type": "execute_result"
    }
   ],
   "source": [
    "#checking null values\n",
    "df1.isnull().sum()"
   ]
  },
  {
   "cell_type": "code",
   "execution_count": 18,
   "id": "afb25e2c-365a-41f1-a77e-329b2ba6f074",
   "metadata": {},
   "outputs": [
    {
     "data": {
      "text/plain": [
       "0"
      ]
     },
     "execution_count": 18,
     "metadata": {},
     "output_type": "execute_result"
    }
   ],
   "source": [
    "#checing duplicates\n",
    "df1.duplicated().sum()"
   ]
  },
  {
   "cell_type": "code",
   "execution_count": 19,
   "id": "dd306e70-f469-4c07-87a4-13a0edce3d32",
   "metadata": {},
   "outputs": [],
   "source": [
    "# converting non-digit feature values into digit form\n",
    "df1[\"loan_status\"]=df1[\"loan_status\"].map({\"Approved\":1,\"Denied\":0})"
   ]
  },
  {
   "cell_type": "code",
   "execution_count": 20,
   "id": "38da9b8b-1ea5-4482-b47b-2f5b9b41b4d2",
   "metadata": {},
   "outputs": [],
   "source": [
    "df1[\"gender\"]=df1[\"gender\"].map({\"Male\":1,\"Female\":0})"
   ]
  },
  {
   "cell_type": "code",
   "execution_count": 21,
   "id": "dbd4e722-ad9a-4ba1-85af-fa16a485a65b",
   "metadata": {},
   "outputs": [],
   "source": [
    "df1[\"marital_status\"]=df1[\"marital_status\"].map({\"Married\":0,\"Single\":1})"
   ]
  },
  {
   "cell_type": "code",
   "execution_count": 22,
   "id": "76f4355c-f003-46c1-9655-c164951c711b",
   "metadata": {},
   "outputs": [
    {
     "data": {
      "text/html": [
       "<div>\n",
       "<style scoped>\n",
       "    .dataframe tbody tr th:only-of-type {\n",
       "        vertical-align: middle;\n",
       "    }\n",
       "\n",
       "    .dataframe tbody tr th {\n",
       "        vertical-align: top;\n",
       "    }\n",
       "\n",
       "    .dataframe thead th {\n",
       "        text-align: right;\n",
       "    }\n",
       "</style>\n",
       "<table border=\"1\" class=\"dataframe\">\n",
       "  <thead>\n",
       "    <tr style=\"text-align: right;\">\n",
       "      <th></th>\n",
       "      <th>age</th>\n",
       "      <th>gender</th>\n",
       "      <th>occupation</th>\n",
       "      <th>education_level</th>\n",
       "      <th>marital_status</th>\n",
       "      <th>income</th>\n",
       "      <th>credit_score</th>\n",
       "      <th>loan_status</th>\n",
       "    </tr>\n",
       "  </thead>\n",
       "  <tbody>\n",
       "    <tr>\n",
       "      <th>0</th>\n",
       "      <td>32</td>\n",
       "      <td>1</td>\n",
       "      <td>Engineer</td>\n",
       "      <td>Bachelor's</td>\n",
       "      <td>0</td>\n",
       "      <td>85000</td>\n",
       "      <td>720</td>\n",
       "      <td>1</td>\n",
       "    </tr>\n",
       "    <tr>\n",
       "      <th>1</th>\n",
       "      <td>45</td>\n",
       "      <td>0</td>\n",
       "      <td>Teacher</td>\n",
       "      <td>Master's</td>\n",
       "      <td>1</td>\n",
       "      <td>62000</td>\n",
       "      <td>680</td>\n",
       "      <td>1</td>\n",
       "    </tr>\n",
       "    <tr>\n",
       "      <th>2</th>\n",
       "      <td>28</td>\n",
       "      <td>1</td>\n",
       "      <td>Student</td>\n",
       "      <td>High School</td>\n",
       "      <td>1</td>\n",
       "      <td>25000</td>\n",
       "      <td>590</td>\n",
       "      <td>0</td>\n",
       "    </tr>\n",
       "    <tr>\n",
       "      <th>3</th>\n",
       "      <td>51</td>\n",
       "      <td>0</td>\n",
       "      <td>Manager</td>\n",
       "      <td>Bachelor's</td>\n",
       "      <td>0</td>\n",
       "      <td>105000</td>\n",
       "      <td>780</td>\n",
       "      <td>1</td>\n",
       "    </tr>\n",
       "    <tr>\n",
       "      <th>4</th>\n",
       "      <td>36</td>\n",
       "      <td>1</td>\n",
       "      <td>Accountant</td>\n",
       "      <td>Bachelor's</td>\n",
       "      <td>0</td>\n",
       "      <td>75000</td>\n",
       "      <td>710</td>\n",
       "      <td>1</td>\n",
       "    </tr>\n",
       "    <tr>\n",
       "      <th>...</th>\n",
       "      <td>...</td>\n",
       "      <td>...</td>\n",
       "      <td>...</td>\n",
       "      <td>...</td>\n",
       "      <td>...</td>\n",
       "      <td>...</td>\n",
       "      <td>...</td>\n",
       "      <td>...</td>\n",
       "    </tr>\n",
       "    <tr>\n",
       "      <th>56</th>\n",
       "      <td>39</td>\n",
       "      <td>1</td>\n",
       "      <td>Architect</td>\n",
       "      <td>Master's</td>\n",
       "      <td>0</td>\n",
       "      <td>100000</td>\n",
       "      <td>770</td>\n",
       "      <td>1</td>\n",
       "    </tr>\n",
       "    <tr>\n",
       "      <th>57</th>\n",
       "      <td>25</td>\n",
       "      <td>0</td>\n",
       "      <td>Receptionist</td>\n",
       "      <td>High School</td>\n",
       "      <td>1</td>\n",
       "      <td>32000</td>\n",
       "      <td>570</td>\n",
       "      <td>0</td>\n",
       "    </tr>\n",
       "    <tr>\n",
       "      <th>58</th>\n",
       "      <td>43</td>\n",
       "      <td>1</td>\n",
       "      <td>Banker</td>\n",
       "      <td>Bachelor's</td>\n",
       "      <td>0</td>\n",
       "      <td>95000</td>\n",
       "      <td>760</td>\n",
       "      <td>1</td>\n",
       "    </tr>\n",
       "    <tr>\n",
       "      <th>59</th>\n",
       "      <td>30</td>\n",
       "      <td>0</td>\n",
       "      <td>Writer</td>\n",
       "      <td>Master's</td>\n",
       "      <td>1</td>\n",
       "      <td>55000</td>\n",
       "      <td>650</td>\n",
       "      <td>1</td>\n",
       "    </tr>\n",
       "    <tr>\n",
       "      <th>60</th>\n",
       "      <td>38</td>\n",
       "      <td>1</td>\n",
       "      <td>Chef</td>\n",
       "      <td>Associate's</td>\n",
       "      <td>0</td>\n",
       "      <td>65000</td>\n",
       "      <td>700</td>\n",
       "      <td>1</td>\n",
       "    </tr>\n",
       "  </tbody>\n",
       "</table>\n",
       "<p>61 rows × 8 columns</p>\n",
       "</div>"
      ],
      "text/plain": [
       "    age  gender    occupation education_level  marital_status  income  \\\n",
       "0    32       1      Engineer      Bachelor's               0   85000   \n",
       "1    45       0       Teacher        Master's               1   62000   \n",
       "2    28       1       Student     High School               1   25000   \n",
       "3    51       0       Manager      Bachelor's               0  105000   \n",
       "4    36       1    Accountant      Bachelor's               0   75000   \n",
       "..  ...     ...           ...             ...             ...     ...   \n",
       "56   39       1     Architect        Master's               0  100000   \n",
       "57   25       0  Receptionist     High School               1   32000   \n",
       "58   43       1        Banker      Bachelor's               0   95000   \n",
       "59   30       0        Writer        Master's               1   55000   \n",
       "60   38       1          Chef     Associate's               0   65000   \n",
       "\n",
       "    credit_score  loan_status  \n",
       "0            720            1  \n",
       "1            680            1  \n",
       "2            590            0  \n",
       "3            780            1  \n",
       "4            710            1  \n",
       "..           ...          ...  \n",
       "56           770            1  \n",
       "57           570            0  \n",
       "58           760            1  \n",
       "59           650            1  \n",
       "60           700            1  \n",
       "\n",
       "[61 rows x 8 columns]"
      ]
     },
     "execution_count": 22,
     "metadata": {},
     "output_type": "execute_result"
    }
   ],
   "source": [
    "df1"
   ]
  },
  {
   "cell_type": "code",
   "execution_count": 23,
   "id": "28f40315-e275-4521-9638-e863fd930c0a",
   "metadata": {},
   "outputs": [],
   "source": [
    "df1.drop(columns={\"occupation\",\"education_level\"},inplace=True)"
   ]
  },
  {
   "cell_type": "code",
   "execution_count": 24,
   "id": "f64497f7-815f-428e-8fb9-95e9fa2833d6",
   "metadata": {},
   "outputs": [
    {
     "data": {
      "text/html": [
       "<div>\n",
       "<style scoped>\n",
       "    .dataframe tbody tr th:only-of-type {\n",
       "        vertical-align: middle;\n",
       "    }\n",
       "\n",
       "    .dataframe tbody tr th {\n",
       "        vertical-align: top;\n",
       "    }\n",
       "\n",
       "    .dataframe thead th {\n",
       "        text-align: right;\n",
       "    }\n",
       "</style>\n",
       "<table border=\"1\" class=\"dataframe\">\n",
       "  <thead>\n",
       "    <tr style=\"text-align: right;\">\n",
       "      <th></th>\n",
       "      <th>age</th>\n",
       "      <th>gender</th>\n",
       "      <th>marital_status</th>\n",
       "      <th>income</th>\n",
       "      <th>credit_score</th>\n",
       "      <th>loan_status</th>\n",
       "    </tr>\n",
       "  </thead>\n",
       "  <tbody>\n",
       "    <tr>\n",
       "      <th>0</th>\n",
       "      <td>32</td>\n",
       "      <td>1</td>\n",
       "      <td>0</td>\n",
       "      <td>85000</td>\n",
       "      <td>720</td>\n",
       "      <td>1</td>\n",
       "    </tr>\n",
       "    <tr>\n",
       "      <th>1</th>\n",
       "      <td>45</td>\n",
       "      <td>0</td>\n",
       "      <td>1</td>\n",
       "      <td>62000</td>\n",
       "      <td>680</td>\n",
       "      <td>1</td>\n",
       "    </tr>\n",
       "    <tr>\n",
       "      <th>2</th>\n",
       "      <td>28</td>\n",
       "      <td>1</td>\n",
       "      <td>1</td>\n",
       "      <td>25000</td>\n",
       "      <td>590</td>\n",
       "      <td>0</td>\n",
       "    </tr>\n",
       "    <tr>\n",
       "      <th>3</th>\n",
       "      <td>51</td>\n",
       "      <td>0</td>\n",
       "      <td>0</td>\n",
       "      <td>105000</td>\n",
       "      <td>780</td>\n",
       "      <td>1</td>\n",
       "    </tr>\n",
       "    <tr>\n",
       "      <th>4</th>\n",
       "      <td>36</td>\n",
       "      <td>1</td>\n",
       "      <td>0</td>\n",
       "      <td>75000</td>\n",
       "      <td>710</td>\n",
       "      <td>1</td>\n",
       "    </tr>\n",
       "    <tr>\n",
       "      <th>...</th>\n",
       "      <td>...</td>\n",
       "      <td>...</td>\n",
       "      <td>...</td>\n",
       "      <td>...</td>\n",
       "      <td>...</td>\n",
       "      <td>...</td>\n",
       "    </tr>\n",
       "    <tr>\n",
       "      <th>56</th>\n",
       "      <td>39</td>\n",
       "      <td>1</td>\n",
       "      <td>0</td>\n",
       "      <td>100000</td>\n",
       "      <td>770</td>\n",
       "      <td>1</td>\n",
       "    </tr>\n",
       "    <tr>\n",
       "      <th>57</th>\n",
       "      <td>25</td>\n",
       "      <td>0</td>\n",
       "      <td>1</td>\n",
       "      <td>32000</td>\n",
       "      <td>570</td>\n",
       "      <td>0</td>\n",
       "    </tr>\n",
       "    <tr>\n",
       "      <th>58</th>\n",
       "      <td>43</td>\n",
       "      <td>1</td>\n",
       "      <td>0</td>\n",
       "      <td>95000</td>\n",
       "      <td>760</td>\n",
       "      <td>1</td>\n",
       "    </tr>\n",
       "    <tr>\n",
       "      <th>59</th>\n",
       "      <td>30</td>\n",
       "      <td>0</td>\n",
       "      <td>1</td>\n",
       "      <td>55000</td>\n",
       "      <td>650</td>\n",
       "      <td>1</td>\n",
       "    </tr>\n",
       "    <tr>\n",
       "      <th>60</th>\n",
       "      <td>38</td>\n",
       "      <td>1</td>\n",
       "      <td>0</td>\n",
       "      <td>65000</td>\n",
       "      <td>700</td>\n",
       "      <td>1</td>\n",
       "    </tr>\n",
       "  </tbody>\n",
       "</table>\n",
       "<p>61 rows × 6 columns</p>\n",
       "</div>"
      ],
      "text/plain": [
       "    age  gender  marital_status  income  credit_score  loan_status\n",
       "0    32       1               0   85000           720            1\n",
       "1    45       0               1   62000           680            1\n",
       "2    28       1               1   25000           590            0\n",
       "3    51       0               0  105000           780            1\n",
       "4    36       1               0   75000           710            1\n",
       "..  ...     ...             ...     ...           ...          ...\n",
       "56   39       1               0  100000           770            1\n",
       "57   25       0               1   32000           570            0\n",
       "58   43       1               0   95000           760            1\n",
       "59   30       0               1   55000           650            1\n",
       "60   38       1               0   65000           700            1\n",
       "\n",
       "[61 rows x 6 columns]"
      ]
     },
     "execution_count": 24,
     "metadata": {},
     "output_type": "execute_result"
    }
   ],
   "source": [
    "df1"
   ]
  },
  {
   "cell_type": "code",
   "execution_count": 25,
   "id": "f67aca96-296f-44c7-a7fb-b698c0ecafb5",
   "metadata": {},
   "outputs": [
    {
     "data": {
      "text/html": [
       "<div>\n",
       "<style scoped>\n",
       "    .dataframe tbody tr th:only-of-type {\n",
       "        vertical-align: middle;\n",
       "    }\n",
       "\n",
       "    .dataframe tbody tr th {\n",
       "        vertical-align: top;\n",
       "    }\n",
       "\n",
       "    .dataframe thead th {\n",
       "        text-align: right;\n",
       "    }\n",
       "</style>\n",
       "<table border=\"1\" class=\"dataframe\">\n",
       "  <thead>\n",
       "    <tr style=\"text-align: right;\">\n",
       "      <th></th>\n",
       "      <th>age</th>\n",
       "      <th>gender</th>\n",
       "      <th>marital_status</th>\n",
       "      <th>income</th>\n",
       "      <th>credit_score</th>\n",
       "      <th>loan_status</th>\n",
       "    </tr>\n",
       "  </thead>\n",
       "  <tbody>\n",
       "    <tr>\n",
       "      <th>age</th>\n",
       "      <td>1.000000</td>\n",
       "      <td>-0.049218</td>\n",
       "      <td>-0.746899</td>\n",
       "      <td>0.743184</td>\n",
       "      <td>0.806042</td>\n",
       "      <td>0.648135</td>\n",
       "    </tr>\n",
       "    <tr>\n",
       "      <th>gender</th>\n",
       "      <td>-0.049218</td>\n",
       "      <td>1.000000</td>\n",
       "      <td>-0.281703</td>\n",
       "      <td>0.051406</td>\n",
       "      <td>0.111500</td>\n",
       "      <td>0.233413</td>\n",
       "    </tr>\n",
       "    <tr>\n",
       "      <th>marital_status</th>\n",
       "      <td>-0.746899</td>\n",
       "      <td>-0.281703</td>\n",
       "      <td>1.000000</td>\n",
       "      <td>-0.752035</td>\n",
       "      <td>-0.845532</td>\n",
       "      <td>-0.740370</td>\n",
       "    </tr>\n",
       "    <tr>\n",
       "      <th>income</th>\n",
       "      <td>0.743184</td>\n",
       "      <td>0.051406</td>\n",
       "      <td>-0.752035</td>\n",
       "      <td>1.000000</td>\n",
       "      <td>0.937983</td>\n",
       "      <td>0.699577</td>\n",
       "    </tr>\n",
       "    <tr>\n",
       "      <th>credit_score</th>\n",
       "      <td>0.806042</td>\n",
       "      <td>0.111500</td>\n",
       "      <td>-0.845532</td>\n",
       "      <td>0.937983</td>\n",
       "      <td>1.000000</td>\n",
       "      <td>0.820765</td>\n",
       "    </tr>\n",
       "    <tr>\n",
       "      <th>loan_status</th>\n",
       "      <td>0.648135</td>\n",
       "      <td>0.233413</td>\n",
       "      <td>-0.740370</td>\n",
       "      <td>0.699577</td>\n",
       "      <td>0.820765</td>\n",
       "      <td>1.000000</td>\n",
       "    </tr>\n",
       "  </tbody>\n",
       "</table>\n",
       "</div>"
      ],
      "text/plain": [
       "                     age    gender  marital_status    income  credit_score  \\\n",
       "age             1.000000 -0.049218       -0.746899  0.743184      0.806042   \n",
       "gender         -0.049218  1.000000       -0.281703  0.051406      0.111500   \n",
       "marital_status -0.746899 -0.281703        1.000000 -0.752035     -0.845532   \n",
       "income          0.743184  0.051406       -0.752035  1.000000      0.937983   \n",
       "credit_score    0.806042  0.111500       -0.845532  0.937983      1.000000   \n",
       "loan_status     0.648135  0.233413       -0.740370  0.699577      0.820765   \n",
       "\n",
       "                loan_status  \n",
       "age                0.648135  \n",
       "gender             0.233413  \n",
       "marital_status    -0.740370  \n",
       "income             0.699577  \n",
       "credit_score       0.820765  \n",
       "loan_status        1.000000  "
      ]
     },
     "execution_count": 25,
     "metadata": {},
     "output_type": "execute_result"
    }
   ],
   "source": [
    "df1.corr()"
   ]
  },
  {
   "cell_type": "code",
   "execution_count": 26,
   "id": "97e8275b-594a-4a71-a512-17323ae2364f",
   "metadata": {},
   "outputs": [
    {
     "data": {
      "text/plain": [
       "<Axes: >"
      ]
     },
     "execution_count": 26,
     "metadata": {},
     "output_type": "execute_result"
    },
    {
     "data": {
      "image/png": "[encoded data removed]",
      "text/plain": [
       "<Figure size 640x480 with 1 Axes>"
      ]
     },
     "metadata": {},
     "output_type": "display_data"
    }
   ],
   "source": [
    "#for checking any outliers\n",
    "sns.boxplot(df1)"
   ]
  },
  {
   "cell_type": "code",
   "execution_count": 27,
   "id": "c4ad133a-9581-4a17-9846-0fa9bfd4520d",
   "metadata": {},
   "outputs": [],
   "source": [
    "#income containing outlier."
   ]
  },
  {
   "cell_type": "code",
   "execution_count": 28,
   "id": "27ecef74-d51b-47aa-b612-1094e79a926e",
   "metadata": {},
   "outputs": [
    {
     "data": {
      "text/html": [
       "<div>\n",
       "<style scoped>\n",
       "    .dataframe tbody tr th:only-of-type {\n",
       "        vertical-align: middle;\n",
       "    }\n",
       "\n",
       "    .dataframe tbody tr th {\n",
       "        vertical-align: top;\n",
       "    }\n",
       "\n",
       "    .dataframe thead th {\n",
       "        text-align: right;\n",
       "    }\n",
       "</style>\n",
       "<table border=\"1\" class=\"dataframe\">\n",
       "  <thead>\n",
       "    <tr style=\"text-align: right;\">\n",
       "      <th></th>\n",
       "      <th>age</th>\n",
       "      <th>gender</th>\n",
       "      <th>marital_status</th>\n",
       "      <th>income</th>\n",
       "      <th>credit_score</th>\n",
       "      <th>loan_status</th>\n",
       "    </tr>\n",
       "  </thead>\n",
       "  <tbody>\n",
       "    <tr>\n",
       "      <th>count</th>\n",
       "      <td>61.000000</td>\n",
       "      <td>61.000000</td>\n",
       "      <td>61.000000</td>\n",
       "      <td>61.000000</td>\n",
       "      <td>61.000000</td>\n",
       "      <td>61.000000</td>\n",
       "    </tr>\n",
       "    <tr>\n",
       "      <th>mean</th>\n",
       "      <td>37.081967</td>\n",
       "      <td>0.508197</td>\n",
       "      <td>0.393443</td>\n",
       "      <td>78983.606557</td>\n",
       "      <td>709.836066</td>\n",
       "      <td>0.737705</td>\n",
       "    </tr>\n",
       "    <tr>\n",
       "      <th>std</th>\n",
       "      <td>8.424755</td>\n",
       "      <td>0.504082</td>\n",
       "      <td>0.492568</td>\n",
       "      <td>33772.025802</td>\n",
       "      <td>72.674888</td>\n",
       "      <td>0.443533</td>\n",
       "    </tr>\n",
       "    <tr>\n",
       "      <th>min</th>\n",
       "      <td>24.000000</td>\n",
       "      <td>0.000000</td>\n",
       "      <td>0.000000</td>\n",
       "      <td>25000.000000</td>\n",
       "      <td>560.000000</td>\n",
       "      <td>0.000000</td>\n",
       "    </tr>\n",
       "    <tr>\n",
       "      <th>25%</th>\n",
       "      <td>30.000000</td>\n",
       "      <td>0.000000</td>\n",
       "      <td>0.000000</td>\n",
       "      <td>52000.000000</td>\n",
       "      <td>650.000000</td>\n",
       "      <td>0.000000</td>\n",
       "    </tr>\n",
       "    <tr>\n",
       "      <th>50%</th>\n",
       "      <td>36.000000</td>\n",
       "      <td>1.000000</td>\n",
       "      <td>0.000000</td>\n",
       "      <td>78000.000000</td>\n",
       "      <td>720.000000</td>\n",
       "      <td>1.000000</td>\n",
       "    </tr>\n",
       "    <tr>\n",
       "      <th>75%</th>\n",
       "      <td>43.000000</td>\n",
       "      <td>1.000000</td>\n",
       "      <td>1.000000</td>\n",
       "      <td>98000.000000</td>\n",
       "      <td>770.000000</td>\n",
       "      <td>1.000000</td>\n",
       "    </tr>\n",
       "    <tr>\n",
       "      <th>max</th>\n",
       "      <td>55.000000</td>\n",
       "      <td>1.000000</td>\n",
       "      <td>1.000000</td>\n",
       "      <td>180000.000000</td>\n",
       "      <td>830.000000</td>\n",
       "      <td>1.000000</td>\n",
       "    </tr>\n",
       "  </tbody>\n",
       "</table>\n",
       "</div>"
      ],
      "text/plain": [
       "             age     gender  marital_status         income  credit_score  \\\n",
       "count  61.000000  61.000000       61.000000      61.000000     61.000000   \n",
       "mean   37.081967   0.508197        0.393443   78983.606557    709.836066   \n",
       "std     8.424755   0.504082        0.492568   33772.025802     72.674888   \n",
       "min    24.000000   0.000000        0.000000   25000.000000    560.000000   \n",
       "25%    30.000000   0.000000        0.000000   52000.000000    650.000000   \n",
       "50%    36.000000   1.000000        0.000000   78000.000000    720.000000   \n",
       "75%    43.000000   1.000000        1.000000   98000.000000    770.000000   \n",
       "max    55.000000   1.000000        1.000000  180000.000000    830.000000   \n",
       "\n",
       "       loan_status  \n",
       "count    61.000000  \n",
       "mean      0.737705  \n",
       "std       0.443533  \n",
       "min       0.000000  \n",
       "25%       0.000000  \n",
       "50%       1.000000  \n",
       "75%       1.000000  \n",
       "max       1.000000  "
      ]
     },
     "execution_count": 28,
     "metadata": {},
     "output_type": "execute_result"
    }
   ],
   "source": [
    "df1.describe()"
   ]
  },
  {
   "cell_type": "code",
   "execution_count": 29,
   "id": "382dc0d1-dfc0-4cd8-8753-759dd223acfa",
   "metadata": {},
   "outputs": [
    {
     "data": {
      "text/plain": [
       "0.91    120000.0\n",
       "0.91    120000.0\n",
       "0.92    121000.0\n",
       "0.93    124000.0\n",
       "0.94    127000.0\n",
       "0.95    130000.0\n",
       "0.96    136000.0\n",
       "0.97    147000.0\n",
       "0.98    168000.0\n",
       "0.99    177000.0\n",
       "0.90    120000.0\n",
       "Name: income, dtype: float64"
      ]
     },
     "execution_count": 29,
     "metadata": {},
     "output_type": "execute_result"
    }
   ],
   "source": [
    "df1[\"income\"].quantile([.91,.91,.92,.93,.94,.95,.96,.97,.98,.99,.90])"
   ]
  },
  {
   "cell_type": "code",
   "execution_count": 30,
   "id": "a478c76c-a05d-4f31-8007-f467399f3dcb",
   "metadata": {},
   "outputs": [],
   "source": [
    "final=df1.query('income<=168000.0')"
   ]
  },
  {
   "cell_type": "code",
   "execution_count": 31,
   "id": "24cbded7-9bb7-41a1-9d08-f566d2f8aee0",
   "metadata": {},
   "outputs": [
    {
     "data": {
      "text/plain": [
       "<Axes: xlabel='loan_status', ylabel='income'>"
      ]
     },
     "execution_count": 31,
     "metadata": {},
     "output_type": "execute_result"
    },
    {
     "data": {
      "image/png": "[encoded data removed]",
      "text/plain": [
       "<Figure size 640x480 with 1 Axes>"
      ]
     },
     "metadata": {},
     "output_type": "display_data"
    }
   ],
   "source": [
    "sns.barplot(x=df1[\"loan_status\"],y=df1[\"income\"])"
   ]
  },
  {
   "cell_type": "code",
   "execution_count": 32,
   "id": "096f9160-5884-4314-9bed-90208972a341",
   "metadata": {},
   "outputs": [
    {
     "data": {
      "text/plain": [
       "(59, 6)"
      ]
     },
     "execution_count": 32,
     "metadata": {},
     "output_type": "execute_result"
    }
   ],
   "source": [
    "final.shape"
   ]
  },
  {
   "cell_type": "code",
   "execution_count": 33,
   "id": "25d88c15-661a-45d0-b3a0-650d793100ef",
   "metadata": {},
   "outputs": [],
   "source": [
    "x=df1.drop(columns=\"loan_status\")\n",
    "y=df1[\"loan_status\"]"
   ]
  },
  {
   "cell_type": "code",
   "execution_count": 34,
   "id": "c446f01c-f209-4368-9175-8906d3943c96",
   "metadata": {},
   "outputs": [],
   "source": [
    "from sklearn.model_selection import train_test_split"
   ]
  },
  {
   "cell_type": "code",
   "execution_count": 35,
   "id": "0c5a4484-b6bb-453b-8352-085cc0c9d9be",
   "metadata": {},
   "outputs": [],
   "source": [
    "xtrain,xtest,ytrain,ytest=train_test_split(x,y,train_size=.80,random_state=123)"
   ]
  },
  {
   "cell_type": "code",
   "execution_count": 36,
   "id": "2e055633-78de-4f94-b622-2c9930f06a89",
   "metadata": {},
   "outputs": [
    {
     "data": {
      "text/plain": [
       "(48, 5)"
      ]
     },
     "execution_count": 36,
     "metadata": {},
     "output_type": "execute_result"
    }
   ],
   "source": [
    "xtrain.shape"
   ]
  },
  {
   "cell_type": "markdown",
   "id": "64c6f25d-f400-4e6f-8555-40c04aef707f",
   "metadata": {},
   "source": [
    "importing algorithms"
   ]
  },
  {
   "cell_type": "code",
   "execution_count": 37,
   "id": "282fb764-cc80-4c13-af2d-9cf8317cc395",
   "metadata": {},
   "outputs": [],
   "source": [
    "from sklearn.linear_model import LogisticRegression\n",
    "from sklearn.ensemble import RandomForestClassifier\n",
    "from sklearn.tree import DecisionTreeClassifier\n",
    "from sklearn.svm import SVC\n",
    "from sklearn.naive_bayes import GaussianNB\n",
    "from sklearn.metrics import accuracy_score,confusion_matrix,classification_report"
   ]
  },
  {
   "cell_type": "code",
   "execution_count": 38,
   "id": "9534944c-2bfd-4084-b834-fd214d5ea9b0",
   "metadata": {},
   "outputs": [],
   "source": [
    "LR=LogisticRegression()\n",
    "RDF=RandomForestClassifier()\n",
    "DT=DecisionTreeClassifier()\n",
    "SVC=SVC()\n",
    "GB=GaussianNB()"
   ]
  },
  {
   "cell_type": "code",
   "execution_count": 39,
   "id": "ffcf64af-b2c2-4ef9-8442-a0ac9ba1e50b",
   "metadata": {},
   "outputs": [
    {
     "data": {
      "text/html": [
       "<style>#sk-container-id-1 {color: black;}#sk-container-id-1 pre{padding: 0;}#sk-container-id-1 div.sk-toggleable {background-color: white;}#sk-container-id-1 label.sk-toggleable__label {cursor: pointer;display: block;width: 100%;margin-bottom: 0;padding: 0.3em;box-sizing: border-box;text-align: center;}#sk-container-id-1 label.sk-toggleable__label-arrow:before {content: \"▸\";float: left;margin-right: 0.25em;color: #696969;}#sk-container-id-1 label.sk-toggleable__label-arrow:hover:before {color: black;}#sk-container-id-1 div.sk-estimator:hover label.sk-toggleable__label-arrow:before {color: black;}#sk-container-id-1 div.sk-toggleable__content {max-height: 0;max-width: 0;overflow: hidden;text-align: left;background-color: #f0f8ff;}#sk-container-id-1 div.sk-toggleable__content pre {margin: 0.2em;color: black;border-radius: 0.25em;background-color: #f0f8ff;}#sk-container-id-1 input.sk-toggleable__control:checked~div.sk-toggleable__content {max-height: 200px;max-width: 100%;overflow: auto;}#sk-container-id-1 input.sk-toggleable__control:checked~label.sk-toggleable__label-arrow:before {content: \"▾\";}#sk-container-id-1 div.sk-estimator input.sk-toggleable__control:checked~label.sk-toggleable__label {background-color: #d4ebff;}#sk-container-id-1 div.sk-label input.sk-toggleable__control:checked~label.sk-toggleable__label {background-color: #d4ebff;}#sk-container-id-1 input.sk-hidden--visually {border: 0;clip: rect(1px 1px 1px 1px);clip: rect(1px, 1px, 1px, 1px);height: 1px;margin: -1px;overflow: hidden;padding: 0;position: absolute;width: 1px;}#sk-container-id-1 div.sk-estimator {font-family: monospace;background-color: #f0f8ff;border: 1px dotted black;border-radius: 0.25em;box-sizing: border-box;margin-bottom: 0.5em;}#sk-container-id-1 div.sk-estimator:hover {background-color: #d4ebff;}#sk-container-id-1 div.sk-parallel-item::after {content: \"\";width: 100%;border-bottom: 1px solid gray;flex-grow: 1;}#sk-container-id-1 div.sk-label:hover label.sk-toggleable__label {background-color: #d4ebff;}#sk-container-id-1 div.sk-serial::before {content: \"\";position: absolute;border-left: 1px solid gray;box-sizing: border-box;top: 0;bottom: 0;left: 50%;z-index: 0;}#sk-container-id-1 div.sk-serial {display: flex;flex-direction: column;align-items: center;background-color: white;padding-right: 0.2em;padding-left: 0.2em;position: relative;}#sk-container-id-1 div.sk-item {position: relative;z-index: 1;}#sk-container-id-1 div.sk-parallel {display: flex;align-items: stretch;justify-content: center;background-color: white;position: relative;}#sk-container-id-1 div.sk-item::before, #sk-container-id-1 div.sk-parallel-item::before {content: \"\";position: absolute;border-left: 1px solid gray;box-sizing: border-box;top: 0;bottom: 0;left: 50%;z-index: -1;}#sk-container-id-1 div.sk-parallel-item {display: flex;flex-direction: column;z-index: 1;position: relative;background-color: white;}#sk-container-id-1 div.sk-parallel-item:first-child::after {align-self: flex-end;width: 50%;}#sk-container-id-1 div.sk-parallel-item:last-child::after {align-self: flex-start;width: 50%;}#sk-container-id-1 div.sk-parallel-item:only-child::after {width: 0;}#sk-container-id-1 div.sk-dashed-wrapped {border: 1px dashed gray;margin: 0 0.4em 0.5em 0.4em;box-sizing: border-box;padding-bottom: 0.4em;background-color: white;}#sk-container-id-1 div.sk-label label {font-family: monospace;font-weight: bold;display: inline-block;line-height: 1.2em;}#sk-container-id-1 div.sk-label-container {text-align: center;}#sk-container-id-1 div.sk-container {/* jupyter's `normalize.less` sets `[hidden] { display: none; }` but bootstrap.min.css set `[hidden] { display: none !important; }` so we also need the `!important` here to be able to override the default hidden behavior on the sphinx rendered scikit-learn.org. See: https://github.com/scikit-learn/scikit-learn/issues/21755 */display: inline-block !important;position: relative;}#sk-container-id-1 div.sk-text-repr-fallback {display: none;}</style><div id=\"sk-container-id-1\" class=\"sk-top-container\"><div class=\"sk-text-repr-fallback\"><pre>LogisticRegression()</pre><b>In a Jupyter environment, please rerun this cell to show the HTML representation or trust the notebook. <br />On GitHub, the HTML representation is unable to render, please try loading this page with nbviewer.org.</b></div><div class=\"sk-container\" hidden><div class=\"sk-item\"><div class=\"sk-estimator sk-toggleable\"><input class=\"sk-toggleable__control sk-hidden--visually\" id=\"sk-estimator-id-1\" type=\"checkbox\" checked><label for=\"sk-estimator-id-1\" class=\"sk-toggleable__label sk-toggleable__label-arrow\">LogisticRegression</label><div class=\"sk-toggleable__content\"><pre>LogisticRegression()</pre></div></div></div></div></div>"
      ],
      "text/plain": [
       "LogisticRegression()"
      ]
     },
     "execution_count": 39,
     "metadata": {},
     "output_type": "execute_result"
    }
   ],
   "source": [
    "LR.fit(xtrain,ytrain)"
   ]
  },
  {
   "cell_type": "code",
   "execution_count": 40,
   "id": "3f855ccf-762f-41e1-952d-1e0247030c77",
   "metadata": {},
   "outputs": [
    {
     "name": "stdout",
     "output_type": "stream",
     "text": [
      "1.0\n",
      "0.9230769230769231\n",
      "              precision    recall  f1-score   support\n",
      "\n",
      "           0       1.00      1.00      1.00        13\n",
      "           1       1.00      1.00      1.00        35\n",
      "\n",
      "    accuracy                           1.00        48\n",
      "   macro avg       1.00      1.00      1.00        48\n",
      "weighted avg       1.00      1.00      1.00        48\n",
      "\n"
     ]
    }
   ],
   "source": [
    "print(accuracy_score(ytrain,LR.predict(xtrain)))\n",
    "print(accuracy_score(ytest,LR.predict(xtest)))\n",
    "print(classification_report(ytrain,LR.predict(xtrain)))"
   ]
  },
  {
   "cell_type": "code",
   "execution_count": 41,
   "id": "d2c0899a-1c7c-4278-a1fd-70d2736c85c8",
   "metadata": {},
   "outputs": [
    {
     "data": {
      "text/html": [
       "<style>#sk-container-id-2 {color: black;}#sk-container-id-2 pre{padding: 0;}#sk-container-id-2 div.sk-toggleable {background-color: white;}#sk-container-id-2 label.sk-toggleable__label {cursor: pointer;display: block;width: 100%;margin-bottom: 0;padding: 0.3em;box-sizing: border-box;text-align: center;}#sk-container-id-2 label.sk-toggleable__label-arrow:before {content: \"▸\";float: left;margin-right: 0.25em;color: #696969;}#sk-container-id-2 label.sk-toggleable__label-arrow:hover:before {color: black;}#sk-container-id-2 div.sk-estimator:hover label.sk-toggleable__label-arrow:before {color: black;}#sk-container-id-2 div.sk-toggleable__content {max-height: 0;max-width: 0;overflow: hidden;text-align: left;background-color: #f0f8ff;}#sk-container-id-2 div.sk-toggleable__content pre {margin: 0.2em;color: black;border-radius: 0.25em;background-color: #f0f8ff;}#sk-container-id-2 input.sk-toggleable__control:checked~div.sk-toggleable__content {max-height: 200px;max-width: 100%;overflow: auto;}#sk-container-id-2 input.sk-toggleable__control:checked~label.sk-toggleable__label-arrow:before {content: \"▾\";}#sk-container-id-2 div.sk-estimator input.sk-toggleable__control:checked~label.sk-toggleable__label {background-color: #d4ebff;}#sk-container-id-2 div.sk-label input.sk-toggleable__control:checked~label.sk-toggleable__label {background-color: #d4ebff;}#sk-container-id-2 input.sk-hidden--visually {border: 0;clip: rect(1px 1px 1px 1px);clip: rect(1px, 1px, 1px, 1px);height: 1px;margin: -1px;overflow: hidden;padding: 0;position: absolute;width: 1px;}#sk-container-id-2 div.sk-estimator {font-family: monospace;background-color: #f0f8ff;border: 1px dotted black;border-radius: 0.25em;box-sizing: border-box;margin-bottom: 0.5em;}#sk-container-id-2 div.sk-estimator:hover {background-color: #d4ebff;}#sk-container-id-2 div.sk-parallel-item::after {content: \"\";width: 100%;border-bottom: 1px solid gray;flex-grow: 1;}#sk-container-id-2 div.sk-label:hover label.sk-toggleable__label {background-color: #d4ebff;}#sk-container-id-2 div.sk-serial::before {content: \"\";position: absolute;border-left: 1px solid gray;box-sizing: border-box;top: 0;bottom: 0;left: 50%;z-index: 0;}#sk-container-id-2 div.sk-serial {display: flex;flex-direction: column;align-items: center;background-color: white;padding-right: 0.2em;padding-left: 0.2em;position: relative;}#sk-container-id-2 div.sk-item {position: relative;z-index: 1;}#sk-container-id-2 div.sk-parallel {display: flex;align-items: stretch;justify-content: center;background-color: white;position: relative;}#sk-container-id-2 div.sk-item::before, #sk-container-id-2 div.sk-parallel-item::before {content: \"\";position: absolute;border-left: 1px solid gray;box-sizing: border-box;top: 0;bottom: 0;left: 50%;z-index: -1;}#sk-container-id-2 div.sk-parallel-item {display: flex;flex-direction: column;z-index: 1;position: relative;background-color: white;}#sk-container-id-2 div.sk-parallel-item:first-child::after {align-self: flex-end;width: 50%;}#sk-container-id-2 div.sk-parallel-item:last-child::after {align-self: flex-start;width: 50%;}#sk-container-id-2 div.sk-parallel-item:only-child::after {width: 0;}#sk-container-id-2 div.sk-dashed-wrapped {border: 1px dashed gray;margin: 0 0.4em 0.5em 0.4em;box-sizing: border-box;padding-bottom: 0.4em;background-color: white;}#sk-container-id-2 div.sk-label label {font-family: monospace;font-weight: bold;display: inline-block;line-height: 1.2em;}#sk-container-id-2 div.sk-label-container {text-align: center;}#sk-container-id-2 div.sk-container {/* jupyter's `normalize.less` sets `[hidden] { display: none; }` but bootstrap.min.css set `[hidden] { display: none !important; }` so we also need the `!important` here to be able to override the default hidden behavior on the sphinx rendered scikit-learn.org. See: https://github.com/scikit-learn/scikit-learn/issues/21755 */display: inline-block !important;position: relative;}#sk-container-id-2 div.sk-text-repr-fallback {display: none;}</style><div id=\"sk-container-id-2\" class=\"sk-top-container\"><div class=\"sk-text-repr-fallback\"><pre>DecisionTreeClassifier()</pre><b>In a Jupyter environment, please rerun this cell to show the HTML representation or trust the notebook. <br />On GitHub, the HTML representation is unable to render, please try loading this page with nbviewer.org.</b></div><div class=\"sk-container\" hidden><div class=\"sk-item\"><div class=\"sk-estimator sk-toggleable\"><input class=\"sk-toggleable__control sk-hidden--visually\" id=\"sk-estimator-id-2\" type=\"checkbox\" checked><label for=\"sk-estimator-id-2\" class=\"sk-toggleable__label sk-toggleable__label-arrow\">DecisionTreeClassifier</label><div class=\"sk-toggleable__content\"><pre>DecisionTreeClassifier()</pre></div></div></div></div></div>"
      ],
      "text/plain": [
       "DecisionTreeClassifier()"
      ]
     },
     "execution_count": 41,
     "metadata": {},
     "output_type": "execute_result"
    }
   ],
   "source": [
    "DT.fit(xtrain,ytrain)"
   ]
  },
  {
   "cell_type": "code",
   "execution_count": 42,
   "id": "83c273ce-00cb-4848-bd21-329e61c3c1ff",
   "metadata": {},
   "outputs": [
    {
     "name": "stdout",
     "output_type": "stream",
     "text": [
      "1.0\n",
      "0.8461538461538461\n",
      "              precision    recall  f1-score   support\n",
      "\n",
      "           0       1.00      1.00      1.00        13\n",
      "           1       1.00      1.00      1.00        35\n",
      "\n",
      "    accuracy                           1.00        48\n",
      "   macro avg       1.00      1.00      1.00        48\n",
      "weighted avg       1.00      1.00      1.00        48\n",
      "\n"
     ]
    }
   ],
   "source": [
    "print(accuracy_score(ytrain,DT.predict(xtrain)))\n",
    "print(accuracy_score(ytest,DT.predict(xtest)))\n",
    "print(classification_report(ytrain,DT.predict(xtrain)))"
   ]
  },
  {
   "cell_type": "code",
   "execution_count": 43,
   "id": "5036c516-ad66-48d0-a166-1c30187d4632",
   "metadata": {},
   "outputs": [
    {
     "data": {
      "text/html": [
       "<style>#sk-container-id-3 {color: black;}#sk-container-id-3 pre{padding: 0;}#sk-container-id-3 div.sk-toggleable {background-color: white;}#sk-container-id-3 label.sk-toggleable__label {cursor: pointer;display: block;width: 100%;margin-bottom: 0;padding: 0.3em;box-sizing: border-box;text-align: center;}#sk-container-id-3 label.sk-toggleable__label-arrow:before {content: \"▸\";float: left;margin-right: 0.25em;color: #696969;}#sk-container-id-3 label.sk-toggleable__label-arrow:hover:before {color: black;}#sk-container-id-3 div.sk-estimator:hover label.sk-toggleable__label-arrow:before {color: black;}#sk-container-id-3 div.sk-toggleable__content {max-height: 0;max-width: 0;overflow: hidden;text-align: left;background-color: #f0f8ff;}#sk-container-id-3 div.sk-toggleable__content pre {margin: 0.2em;color: black;border-radius: 0.25em;background-color: #f0f8ff;}#sk-container-id-3 input.sk-toggleable__control:checked~div.sk-toggleable__content {max-height: 200px;max-width: 100%;overflow: auto;}#sk-container-id-3 input.sk-toggleable__control:checked~label.sk-toggleable__label-arrow:before {content: \"▾\";}#sk-container-id-3 div.sk-estimator input.sk-toggleable__control:checked~label.sk-toggleable__label {background-color: #d4ebff;}#sk-container-id-3 div.sk-label input.sk-toggleable__control:checked~label.sk-toggleable__label {background-color: #d4ebff;}#sk-container-id-3 input.sk-hidden--visually {border: 0;clip: rect(1px 1px 1px 1px);clip: rect(1px, 1px, 1px, 1px);height: 1px;margin: -1px;overflow: hidden;padding: 0;position: absolute;width: 1px;}#sk-container-id-3 div.sk-estimator {font-family: monospace;background-color: #f0f8ff;border: 1px dotted black;border-radius: 0.25em;box-sizing: border-box;margin-bottom: 0.5em;}#sk-container-id-3 div.sk-estimator:hover {background-color: #d4ebff;}#sk-container-id-3 div.sk-parallel-item::after {content: \"\";width: 100%;border-bottom: 1px solid gray;flex-grow: 1;}#sk-container-id-3 div.sk-label:hover label.sk-toggleable__label {background-color: #d4ebff;}#sk-container-id-3 div.sk-serial::before {content: \"\";position: absolute;border-left: 1px solid gray;box-sizing: border-box;top: 0;bottom: 0;left: 50%;z-index: 0;}#sk-container-id-3 div.sk-serial {display: flex;flex-direction: column;align-items: center;background-color: white;padding-right: 0.2em;padding-left: 0.2em;position: relative;}#sk-container-id-3 div.sk-item {position: relative;z-index: 1;}#sk-container-id-3 div.sk-parallel {display: flex;align-items: stretch;justify-content: center;background-color: white;position: relative;}#sk-container-id-3 div.sk-item::before, #sk-container-id-3 div.sk-parallel-item::before {content: \"\";position: absolute;border-left: 1px solid gray;box-sizing: border-box;top: 0;bottom: 0;left: 50%;z-index: -1;}#sk-container-id-3 div.sk-parallel-item {display: flex;flex-direction: column;z-index: 1;position: relative;background-color: white;}#sk-container-id-3 div.sk-parallel-item:first-child::after {align-self: flex-end;width: 50%;}#sk-container-id-3 div.sk-parallel-item:last-child::after {align-self: flex-start;width: 50%;}#sk-container-id-3 div.sk-parallel-item:only-child::after {width: 0;}#sk-container-id-3 div.sk-dashed-wrapped {border: 1px dashed gray;margin: 0 0.4em 0.5em 0.4em;box-sizing: border-box;padding-bottom: 0.4em;background-color: white;}#sk-container-id-3 div.sk-label label {font-family: monospace;font-weight: bold;display: inline-block;line-height: 1.2em;}#sk-container-id-3 div.sk-label-container {text-align: center;}#sk-container-id-3 div.sk-container {/* jupyter's `normalize.less` sets `[hidden] { display: none; }` but bootstrap.min.css set `[hidden] { display: none !important; }` so we also need the `!important` here to be able to override the default hidden behavior on the sphinx rendered scikit-learn.org. See: https://github.com/scikit-learn/scikit-learn/issues/21755 */display: inline-block !important;position: relative;}#sk-container-id-3 div.sk-text-repr-fallback {display: none;}</style><div id=\"sk-container-id-3\" class=\"sk-top-container\"><div class=\"sk-text-repr-fallback\"><pre>RandomForestClassifier()</pre><b>In a Jupyter environment, please rerun this cell to show the HTML representation or trust the notebook. <br />On GitHub, the HTML representation is unable to render, please try loading this page with nbviewer.org.</b></div><div class=\"sk-container\" hidden><div class=\"sk-item\"><div class=\"sk-estimator sk-toggleable\"><input class=\"sk-toggleable__control sk-hidden--visually\" id=\"sk-estimator-id-3\" type=\"checkbox\" checked><label for=\"sk-estimator-id-3\" class=\"sk-toggleable__label sk-toggleable__label-arrow\">RandomForestClassifier</label><div class=\"sk-toggleable__content\"><pre>RandomForestClassifier()</pre></div></div></div></div></div>"
      ],
      "text/plain": [
       "RandomForestClassifier()"
      ]
     },
     "execution_count": 43,
     "metadata": {},
     "output_type": "execute_result"
    }
   ],
   "source": [
    "RDF.fit(xtrain,ytrain)"
   ]
  },
  {
   "cell_type": "code",
   "execution_count": 44,
   "id": "1f8b2757-d8ab-44e2-b043-f6e775f2091b",
   "metadata": {},
   "outputs": [
    {
     "name": "stdout",
     "output_type": "stream",
     "text": [
      "1.0\n",
      "0.9230769230769231\n",
      "              precision    recall  f1-score   support\n",
      "\n",
      "           0       1.00      1.00      1.00        13\n",
      "           1       1.00      1.00      1.00        35\n",
      "\n",
      "    accuracy                           1.00        48\n",
      "   macro avg       1.00      1.00      1.00        48\n",
      "weighted avg       1.00      1.00      1.00        48\n",
      "\n"
     ]
    }
   ],
   "source": [
    "print(accuracy_score(ytrain,RDF.predict(xtrain)))\n",
    "print(accuracy_score(ytest,RDF.predict(xtest)))\n",
    "print(classification_report(ytrain,RDF.predict(xtrain)))"
   ]
  },
  {
   "cell_type": "code",
   "execution_count": 45,
   "id": "68b58be5-ee92-41e1-8d9d-1917fbac8051",
   "metadata": {},
   "outputs": [
    {
     "data": {
      "text/html": [
       "<style>#sk-container-id-4 {color: black;}#sk-container-id-4 pre{padding: 0;}#sk-container-id-4 div.sk-toggleable {background-color: white;}#sk-container-id-4 label.sk-toggleable__label {cursor: pointer;display: block;width: 100%;margin-bottom: 0;padding: 0.3em;box-sizing: border-box;text-align: center;}#sk-container-id-4 label.sk-toggleable__label-arrow:before {content: \"▸\";float: left;margin-right: 0.25em;color: #696969;}#sk-container-id-4 label.sk-toggleable__label-arrow:hover:before {color: black;}#sk-container-id-4 div.sk-estimator:hover label.sk-toggleable__label-arrow:before {color: black;}#sk-container-id-4 div.sk-toggleable__content {max-height: 0;max-width: 0;overflow: hidden;text-align: left;background-color: #f0f8ff;}#sk-container-id-4 div.sk-toggleable__content pre {margin: 0.2em;color: black;border-radius: 0.25em;background-color: #f0f8ff;}#sk-container-id-4 input.sk-toggleable__control:checked~div.sk-toggleable__content {max-height: 200px;max-width: 100%;overflow: auto;}#sk-container-id-4 input.sk-toggleable__control:checked~label.sk-toggleable__label-arrow:before {content: \"▾\";}#sk-container-id-4 div.sk-estimator input.sk-toggleable__control:checked~label.sk-toggleable__label {background-color: #d4ebff;}#sk-container-id-4 div.sk-label input.sk-toggleable__control:checked~label.sk-toggleable__label {background-color: #d4ebff;}#sk-container-id-4 input.sk-hidden--visually {border: 0;clip: rect(1px 1px 1px 1px);clip: rect(1px, 1px, 1px, 1px);height: 1px;margin: -1px;overflow: hidden;padding: 0;position: absolute;width: 1px;}#sk-container-id-4 div.sk-estimator {font-family: monospace;background-color: #f0f8ff;border: 1px dotted black;border-radius: 0.25em;box-sizing: border-box;margin-bottom: 0.5em;}#sk-container-id-4 div.sk-estimator:hover {background-color: #d4ebff;}#sk-container-id-4 div.sk-parallel-item::after {content: \"\";width: 100%;border-bottom: 1px solid gray;flex-grow: 1;}#sk-container-id-4 div.sk-label:hover label.sk-toggleable__label {background-color: #d4ebff;}#sk-container-id-4 div.sk-serial::before {content: \"\";position: absolute;border-left: 1px solid gray;box-sizing: border-box;top: 0;bottom: 0;left: 50%;z-index: 0;}#sk-container-id-4 div.sk-serial {display: flex;flex-direction: column;align-items: center;background-color: white;padding-right: 0.2em;padding-left: 0.2em;position: relative;}#sk-container-id-4 div.sk-item {position: relative;z-index: 1;}#sk-container-id-4 div.sk-parallel {display: flex;align-items: stretch;justify-content: center;background-color: white;position: relative;}#sk-container-id-4 div.sk-item::before, #sk-container-id-4 div.sk-parallel-item::before {content: \"\";position: absolute;border-left: 1px solid gray;box-sizing: border-box;top: 0;bottom: 0;left: 50%;z-index: -1;}#sk-container-id-4 div.sk-parallel-item {display: flex;flex-direction: column;z-index: 1;position: relative;background-color: white;}#sk-container-id-4 div.sk-parallel-item:first-child::after {align-self: flex-end;width: 50%;}#sk-container-id-4 div.sk-parallel-item:last-child::after {align-self: flex-start;width: 50%;}#sk-container-id-4 div.sk-parallel-item:only-child::after {width: 0;}#sk-container-id-4 div.sk-dashed-wrapped {border: 1px dashed gray;margin: 0 0.4em 0.5em 0.4em;box-sizing: border-box;padding-bottom: 0.4em;background-color: white;}#sk-container-id-4 div.sk-label label {font-family: monospace;font-weight: bold;display: inline-block;line-height: 1.2em;}#sk-container-id-4 div.sk-label-container {text-align: center;}#sk-container-id-4 div.sk-container {/* jupyter's `normalize.less` sets `[hidden] { display: none; }` but bootstrap.min.css set `[hidden] { display: none !important; }` so we also need the `!important` here to be able to override the default hidden behavior on the sphinx rendered scikit-learn.org. See: https://github.com/scikit-learn/scikit-learn/issues/21755 */display: inline-block !important;position: relative;}#sk-container-id-4 div.sk-text-repr-fallback {display: none;}</style><div id=\"sk-container-id-4\" class=\"sk-top-container\"><div class=\"sk-text-repr-fallback\"><pre>SVC()</pre><b>In a Jupyter environment, please rerun this cell to show the HTML representation or trust the notebook. <br />On GitHub, the HTML representation is unable to render, please try loading this page with nbviewer.org.</b></div><div class=\"sk-container\" hidden><div class=\"sk-item\"><div class=\"sk-estimator sk-toggleable\"><input class=\"sk-toggleable__control sk-hidden--visually\" id=\"sk-estimator-id-4\" type=\"checkbox\" checked><label for=\"sk-estimator-id-4\" class=\"sk-toggleable__label sk-toggleable__label-arrow\">SVC</label><div class=\"sk-toggleable__content\"><pre>SVC()</pre></div></div></div></div></div>"
      ],
      "text/plain": [
       "SVC()"
      ]
     },
     "execution_count": 45,
     "metadata": {},
     "output_type": "execute_result"
    }
   ],
   "source": [
    "SVC.fit(xtrain,ytrain)"
   ]
  },
  {
   "cell_type": "code",
   "execution_count": 46,
   "id": "2d755036-e2b5-4ac6-a0d4-dbf3724a4c34",
   "metadata": {},
   "outputs": [
    {
     "name": "stdout",
     "output_type": "stream",
     "text": [
      "0.9583333333333334\n",
      "1.0\n",
      "              precision    recall  f1-score   support\n",
      "\n",
      "           0       0.87      1.00      0.93        13\n",
      "           1       1.00      0.94      0.97        35\n",
      "\n",
      "    accuracy                           0.96        48\n",
      "   macro avg       0.93      0.97      0.95        48\n",
      "weighted avg       0.96      0.96      0.96        48\n",
      "\n"
     ]
    }
   ],
   "source": [
    "print(accuracy_score(ytrain,SVC.predict(xtrain)))\n",
    "print(accuracy_score(ytest,SVC.predict(xtest)))\n",
    "print(classification_report(ytrain,SVC.predict(xtrain)))"
   ]
  },
  {
   "cell_type": "code",
   "execution_count": 47,
   "id": "27509443-2304-44a7-be90-608d6d4ba827",
   "metadata": {},
   "outputs": [
    {
     "data": {
      "text/html": [
       "<style>#sk-container-id-5 {color: black;}#sk-container-id-5 pre{padding: 0;}#sk-container-id-5 div.sk-toggleable {background-color: white;}#sk-container-id-5 label.sk-toggleable__label {cursor: pointer;display: block;width: 100%;margin-bottom: 0;padding: 0.3em;box-sizing: border-box;text-align: center;}#sk-container-id-5 label.sk-toggleable__label-arrow:before {content: \"▸\";float: left;margin-right: 0.25em;color: #696969;}#sk-container-id-5 label.sk-toggleable__label-arrow:hover:before {color: black;}#sk-container-id-5 div.sk-estimator:hover label.sk-toggleable__label-arrow:before {color: black;}#sk-container-id-5 div.sk-toggleable__content {max-height: 0;max-width: 0;overflow: hidden;text-align: left;background-color: #f0f8ff;}#sk-container-id-5 div.sk-toggleable__content pre {margin: 0.2em;color: black;border-radius: 0.25em;background-color: #f0f8ff;}#sk-container-id-5 input.sk-toggleable__control:checked~div.sk-toggleable__content {max-height: 200px;max-width: 100%;overflow: auto;}#sk-container-id-5 input.sk-toggleable__control:checked~label.sk-toggleable__label-arrow:before {content: \"▾\";}#sk-container-id-5 div.sk-estimator input.sk-toggleable__control:checked~label.sk-toggleable__label {background-color: #d4ebff;}#sk-container-id-5 div.sk-label input.sk-toggleable__control:checked~label.sk-toggleable__label {background-color: #d4ebff;}#sk-container-id-5 input.sk-hidden--visually {border: 0;clip: rect(1px 1px 1px 1px);clip: rect(1px, 1px, 1px, 1px);height: 1px;margin: -1px;overflow: hidden;padding: 0;position: absolute;width: 1px;}#sk-container-id-5 div.sk-estimator {font-family: monospace;background-color: #f0f8ff;border: 1px dotted black;border-radius: 0.25em;box-sizing: border-box;margin-bottom: 0.5em;}#sk-container-id-5 div.sk-estimator:hover {background-color: #d4ebff;}#sk-container-id-5 div.sk-parallel-item::after {content: \"\";width: 100%;border-bottom: 1px solid gray;flex-grow: 1;}#sk-container-id-5 div.sk-label:hover label.sk-toggleable__label {background-color: #d4ebff;}#sk-container-id-5 div.sk-serial::before {content: \"\";position: absolute;border-left: 1px solid gray;box-sizing: border-box;top: 0;bottom: 0;left: 50%;z-index: 0;}#sk-container-id-5 div.sk-serial {display: flex;flex-direction: column;align-items: center;background-color: white;padding-right: 0.2em;padding-left: 0.2em;position: relative;}#sk-container-id-5 div.sk-item {position: relative;z-index: 1;}#sk-container-id-5 div.sk-parallel {display: flex;align-items: stretch;justify-content: center;background-color: white;position: relative;}#sk-container-id-5 div.sk-item::before, #sk-container-id-5 div.sk-parallel-item::before {content: \"\";position: absolute;border-left: 1px solid gray;box-sizing: border-box;top: 0;bottom: 0;left: 50%;z-index: -1;}#sk-container-id-5 div.sk-parallel-item {display: flex;flex-direction: column;z-index: 1;position: relative;background-color: white;}#sk-container-id-5 div.sk-parallel-item:first-child::after {align-self: flex-end;width: 50%;}#sk-container-id-5 div.sk-parallel-item:last-child::after {align-self: flex-start;width: 50%;}#sk-container-id-5 div.sk-parallel-item:only-child::after {width: 0;}#sk-container-id-5 div.sk-dashed-wrapped {border: 1px dashed gray;margin: 0 0.4em 0.5em 0.4em;box-sizing: border-box;padding-bottom: 0.4em;background-color: white;}#sk-container-id-5 div.sk-label label {font-family: monospace;font-weight: bold;display: inline-block;line-height: 1.2em;}#sk-container-id-5 div.sk-label-container {text-align: center;}#sk-container-id-5 div.sk-container {/* jupyter's `normalize.less` sets `[hidden] { display: none; }` but bootstrap.min.css set `[hidden] { display: none !important; }` so we also need the `!important` here to be able to override the default hidden behavior on the sphinx rendered scikit-learn.org. See: https://github.com/scikit-learn/scikit-learn/issues/21755 */display: inline-block !important;position: relative;}#sk-container-id-5 div.sk-text-repr-fallback {display: none;}</style><div id=\"sk-container-id-5\" class=\"sk-top-container\"><div class=\"sk-text-repr-fallback\"><pre>GaussianNB()</pre><b>In a Jupyter environment, please rerun this cell to show the HTML representation or trust the notebook. <br />On GitHub, the HTML representation is unable to render, please try loading this page with nbviewer.org.</b></div><div class=\"sk-container\" hidden><div class=\"sk-item\"><div class=\"sk-estimator sk-toggleable\"><input class=\"sk-toggleable__control sk-hidden--visually\" id=\"sk-estimator-id-5\" type=\"checkbox\" checked><label for=\"sk-estimator-id-5\" class=\"sk-toggleable__label sk-toggleable__label-arrow\">GaussianNB</label><div class=\"sk-toggleable__content\"><pre>GaussianNB()</pre></div></div></div></div></div>"
      ],
      "text/plain": [
       "GaussianNB()"
      ]
     },
     "execution_count": 47,
     "metadata": {},
     "output_type": "execute_result"
    }
   ],
   "source": [
    "GB.fit(xtrain,ytrain)"
   ]
  },
  {
   "cell_type": "code",
   "execution_count": 48,
   "id": "d4d806a3-c85b-4b49-b204-0eceda6b5b1d",
   "metadata": {},
   "outputs": [
    {
     "name": "stdout",
     "output_type": "stream",
     "text": [
      "0.9791666666666666\n",
      "1.0\n",
      "              precision    recall  f1-score   support\n",
      "\n",
      "           0       0.93      1.00      0.96        13\n",
      "           1       1.00      0.97      0.99        35\n",
      "\n",
      "    accuracy                           0.98        48\n",
      "   macro avg       0.96      0.99      0.97        48\n",
      "weighted avg       0.98      0.98      0.98        48\n",
      "\n"
     ]
    }
   ],
   "source": [
    "print(accuracy_score(ytrain,GB.predict(xtrain)))\n",
    "print(accuracy_score(ytest,GB.predict(xtest)))\n",
    "print(classification_report(ytrain,GB.predict(xtrain)))"
   ]
  },
  {
   "cell_type": "markdown",
   "id": "47375504-bae2-4e2e-8f76-8f454e96e7a6",
   "metadata": {},
   "source": [
    "for accuracy and precision RandomForestClassifier and DecisionTreeClassifier are best"
   ]
  },
  {
   "cell_type": "code",
   "execution_count": 49,
   "id": "5c09fe7e-81ed-4046-a0d1-63ace9d1e93c",
   "metadata": {},
   "outputs": [],
   "source": [
    "final_model=RDF.fit(x,y)"
   ]
  },
  {
   "cell_type": "code",
   "execution_count": 50,
   "id": "439a44d7-24ac-4898-a94e-05fc845f44d7",
   "metadata": {},
   "outputs": [],
   "source": [
    "import joblib"
   ]
  },
  {
   "cell_type": "code",
   "execution_count": 53,
   "id": "9d0d0e85-4d94-4885-abf8-5c3824b382c8",
   "metadata": {},
   "outputs": [
    {
     "data": {
      "text/html": [
       "<div>\n",
       "<style scoped>\n",
       "    .dataframe tbody tr th:only-of-type {\n",
       "        vertical-align: middle;\n",
       "    }\n",
       "\n",
       "    .dataframe tbody tr th {\n",
       "        vertical-align: top;\n",
       "    }\n",
       "\n",
       "    .dataframe thead th {\n",
       "        text-align: right;\n",
       "    }\n",
       "</style>\n",
       "<table border=\"1\" class=\"dataframe\">\n",
       "  <thead>\n",
       "    <tr style=\"text-align: right;\">\n",
       "      <th></th>\n",
       "      <th>age</th>\n",
       "      <th>gender</th>\n",
       "      <th>marital_status</th>\n",
       "      <th>income</th>\n",
       "      <th>credit_score</th>\n",
       "    </tr>\n",
       "  </thead>\n",
       "  <tbody>\n",
       "    <tr>\n",
       "      <th>0</th>\n",
       "      <td>32</td>\n",
       "      <td>1</td>\n",
       "      <td>0</td>\n",
       "      <td>85000</td>\n",
       "      <td>720</td>\n",
       "    </tr>\n",
       "    <tr>\n",
       "      <th>1</th>\n",
       "      <td>45</td>\n",
       "      <td>0</td>\n",
       "      <td>1</td>\n",
       "      <td>62000</td>\n",
       "      <td>680</td>\n",
       "    </tr>\n",
       "    <tr>\n",
       "      <th>2</th>\n",
       "      <td>28</td>\n",
       "      <td>1</td>\n",
       "      <td>1</td>\n",
       "      <td>25000</td>\n",
       "      <td>590</td>\n",
       "    </tr>\n",
       "    <tr>\n",
       "      <th>3</th>\n",
       "      <td>51</td>\n",
       "      <td>0</td>\n",
       "      <td>0</td>\n",
       "      <td>105000</td>\n",
       "      <td>780</td>\n",
       "    </tr>\n",
       "    <tr>\n",
       "      <th>4</th>\n",
       "      <td>36</td>\n",
       "      <td>1</td>\n",
       "      <td>0</td>\n",
       "      <td>75000</td>\n",
       "      <td>710</td>\n",
       "    </tr>\n",
       "    <tr>\n",
       "      <th>...</th>\n",
       "      <td>...</td>\n",
       "      <td>...</td>\n",
       "      <td>...</td>\n",
       "      <td>...</td>\n",
       "      <td>...</td>\n",
       "    </tr>\n",
       "    <tr>\n",
       "      <th>56</th>\n",
       "      <td>39</td>\n",
       "      <td>1</td>\n",
       "      <td>0</td>\n",
       "      <td>100000</td>\n",
       "      <td>770</td>\n",
       "    </tr>\n",
       "    <tr>\n",
       "      <th>57</th>\n",
       "      <td>25</td>\n",
       "      <td>0</td>\n",
       "      <td>1</td>\n",
       "      <td>32000</td>\n",
       "      <td>570</td>\n",
       "    </tr>\n",
       "    <tr>\n",
       "      <th>58</th>\n",
       "      <td>43</td>\n",
       "      <td>1</td>\n",
       "      <td>0</td>\n",
       "      <td>95000</td>\n",
       "      <td>760</td>\n",
       "    </tr>\n",
       "    <tr>\n",
       "      <th>59</th>\n",
       "      <td>30</td>\n",
       "      <td>0</td>\n",
       "      <td>1</td>\n",
       "      <td>55000</td>\n",
       "      <td>650</td>\n",
       "    </tr>\n",
       "    <tr>\n",
       "      <th>60</th>\n",
       "      <td>38</td>\n",
       "      <td>1</td>\n",
       "      <td>0</td>\n",
       "      <td>65000</td>\n",
       "      <td>700</td>\n",
       "    </tr>\n",
       "  </tbody>\n",
       "</table>\n",
       "<p>61 rows × 5 columns</p>\n",
       "</div>"
      ],
      "text/plain": [
       "    age  gender  marital_status  income  credit_score\n",
       "0    32       1               0   85000           720\n",
       "1    45       0               1   62000           680\n",
       "2    28       1               1   25000           590\n",
       "3    51       0               0  105000           780\n",
       "4    36       1               0   75000           710\n",
       "..  ...     ...             ...     ...           ...\n",
       "56   39       1               0  100000           770\n",
       "57   25       0               1   32000           570\n",
       "58   43       1               0   95000           760\n",
       "59   30       0               1   55000           650\n",
       "60   38       1               0   65000           700\n",
       "\n",
       "[61 rows x 5 columns]"
      ]
     },
     "execution_count": 53,
     "metadata": {},
     "output_type": "execute_result"
    }
   ],
   "source": [
    "x"
   ]
  },
  {
   "cell_type": "code",
   "execution_count": 54,
   "id": "dfe69426-b086-4b26-bed6-619fbef0df19",
   "metadata": {},
   "outputs": [],
   "source": [
    "Data=pd.DataFrame({\"age\":25,\n",
    "                  \"gender\":1,\n",
    "                  \"marital_status\":1,\n",
    "                  \"income\":35000,\n",
    "                  \"credit_score\":500},index=[0])\n"
   ]
  },
  {
   "cell_type": "code",
   "execution_count": 55,
   "id": "f156f9b2-af57-4d9f-a42e-4232a6cb6f01",
   "metadata": {},
   "outputs": [
    {
     "data": {
      "text/html": [
       "<div>\n",
       "<style scoped>\n",
       "    .dataframe tbody tr th:only-of-type {\n",
       "        vertical-align: middle;\n",
       "    }\n",
       "\n",
       "    .dataframe tbody tr th {\n",
       "        vertical-align: top;\n",
       "    }\n",
       "\n",
       "    .dataframe thead th {\n",
       "        text-align: right;\n",
       "    }\n",
       "</style>\n",
       "<table border=\"1\" class=\"dataframe\">\n",
       "  <thead>\n",
       "    <tr style=\"text-align: right;\">\n",
       "      <th></th>\n",
       "      <th>age</th>\n",
       "      <th>gender</th>\n",
       "      <th>marital_status</th>\n",
       "      <th>income</th>\n",
       "      <th>credit_score</th>\n",
       "    </tr>\n",
       "  </thead>\n",
       "  <tbody>\n",
       "    <tr>\n",
       "      <th>0</th>\n",
       "      <td>25</td>\n",
       "      <td>1</td>\n",
       "      <td>1</td>\n",
       "      <td>35000</td>\n",
       "      <td>500</td>\n",
       "    </tr>\n",
       "  </tbody>\n",
       "</table>\n",
       "</div>"
      ],
      "text/plain": [
       "   age  gender  marital_status  income  credit_score\n",
       "0   25       1               1   35000           500"
      ]
     },
     "execution_count": 55,
     "metadata": {},
     "output_type": "execute_result"
    }
   ],
   "source": [
    "Data"
   ]
  },
  {
   "cell_type": "code",
   "execution_count": 56,
   "id": "84ff3fd1-a38e-4d8b-bddc-63f90b09c12c",
   "metadata": {},
   "outputs": [
    {
     "data": {
      "text/plain": [
       "array([0], dtype=int64)"
      ]
     },
     "execution_count": 56,
     "metadata": {},
     "output_type": "execute_result"
    }
   ],
   "source": [
    "model.predict(Data)"
   ]
  },
  {
   "cell_type": "code",
   "execution_count": 57,
   "id": "74430730-fd8e-45f4-8568-3de3be2b1f59",
   "metadata": {},
   "outputs": [],
   "source": [
    "from tkinter import *\n",
    "import tkinter as tkinter\n",
    "import tkinter as tk\n",
    "from tkinter.ttk import Combobox\n"
   ]
  },
  {
   "cell_type": "code",
   "execution_count": 59,
   "id": "bc710675-7f2a-4c4c-a5fe-b466bb90241c",
   "metadata": {},
   "outputs": [],
   "source": [
    "loan=Tk()\n",
    "loan.geometry(\"800x600\")\n",
    "loan.maxsize(width=800,height=600)\n",
    "loan.title(\"Loan_A&D_Predictor\")\n",
    "loan.config(bg=\"AntiqueWhite\")\n",
    "image=PhotoImage(file=r\"pngloan.png\")\n",
    "labelphoto=Label(loan,image=image).place(x=-10,y=-300)\n",
    "# creating labels and entryboxes and comboboxes \n",
    "label0=Label(loan,text=\"Loan_A&D_Predictor\",fg=\"black\",font=(\"TimesNewRomans\",16,\"bold\"),padx=True).place(x=280,y=3)\n",
    "#age\n",
    "label1=Label(loan,text=\"AGE-\",fg=\"black\",font=(\"TimesNewRomans\",13,\"bold\"),padx=True).place(x=180,y=100)\n",
    "label11=Label(loan,text=\"Years\",fg=\"black\",font=(\"TimesNewRomans\",13,\"bold\"),padx=True).place(x=460,y=97)\n",
    "e1=Entry(loan,bd=5,width=20,font=(\"TimesNewRomans\",13))\n",
    "e1.place(x=260,y=97)\n",
    "#gender\n",
    "label2=Label(loan,text=\"Gender-\",fg=\"black\",font=(\"TimesNewRomans\",13,\"bold\"),padx=True).place(x=170,y=150)\n",
    "gen=[\"0\",\"1\"]\n",
    "combobox=Combobox(loan,value=gen)\n",
    "combobox[\"state\"]=\"readonly\"\n",
    "combobox.place(x=260,y=150)\n",
    "#maritial status\n",
    "label2=Label(loan,text=\"marital_status-\",fg=\"black\",font=(\"TimesNewRomans\",13,\"bold\"),padx=True).place(x=130,y=200)\n",
    "mer=[\"0\",\"1\"]\n",
    "combobox1=Combobox(loan,value=mer)\n",
    "combobox1[\"state\"]=\"readonly\"\n",
    "combobox1.place(x=260,y=200)\n",
    "#income\n",
    "label2=Label(loan,text=\"Income-\",fg=\"black\",font=(\"TimesNewRomans\",13,\"bold\"),padx=True).place(x=160,y=240)\n",
    "e2=Entry(loan,bd=5,width=20,font=(\"TimesNewRomans\",13))\n",
    "e2.place(x=260,y=240)\n",
    "#credit_score\n",
    "label2=Label(loan,text=\"Credit Score-\",fg=\"black\",font=(\"TimesNewRomans\",13,\"bold\"),padx=True).place(x=140,y=280)\n",
    "e3=Entry(loan,bd=5,width=20,font=(\"TimesNewRomans\",13))\n",
    "e3.place(x=260,y=280)\n",
    "e4=Entry(loan,width=40,bd=5,font=(\"TimesNewRomans\",13,\"bold\"))\n",
    "e4.place(x=230,y=320)\n",
    "#function\n",
    "def Prediction():\n",
    "     p1=Entry.get(e1)\n",
    "     p1=eval(p1)\n",
    "     p2=Combobox.get(combobox)\n",
    "     p2=int(p2)\n",
    "     p3=Combobox.get(combobox1)\n",
    "     p3=int(p3)\n",
    "     p4=Entry.get(e2)\n",
    "     p4=eval(p4)\n",
    "     p5=Entry.get(e3)\n",
    "     p5=eval(p5)\n",
    "     Data1=pd.DataFrame({\"age\":p1,\n",
    "                  \"gender\":p2,\n",
    "                  \"marital_status\":p3,\n",
    "                  \"income\":p4,\n",
    "                  \"credit_score\":p5},index=[0])\n",
    "     model=joblib.load(\"loan_prediction\")\n",
    "     prediction=model.predict(Data1)\n",
    "     if prediction==0:\n",
    "       Entry.insert(e4,0,\"Denied\")\n",
    "       a=prediction.center(12)\n",
    "       print(a)\n",
    "     else:\n",
    "       Entry.insert(e4,0,\"Approved\")\n",
    "       b=prediction\n",
    "       c=b.center(12)       \n",
    "       print(b)\n",
    "def reset():\n",
    "    e1.delete(0,END)\n",
    "    e2.delete(0,END)\n",
    "    e3.delete(0,END)\n",
    "    e4.delete(0,END)\n",
    "#button\n",
    "button1=Button(loan,text=\"Submit\",bd=5,bg=\"red\",command=Prediction)\n",
    "button1.place(x=250,y=400)\n",
    "button2=Button(loan,text=\"Reset\",bd=5,bg=\"red\",command=reset)\n",
    "button2.place(x=390,y=400)\n",
    "label3=Label(loan,text=(\"Male=1,Female=0,Married=0,Single=1\"),fg=\"black\",font=(\"TimesNewRomans\",13,\"bold\"),padx=True)\n",
    "label3.place(x=200,y=450)\n",
    "     \n",
    "loan.mainloop()"
   ]
  },
  {
   "cell_type": "code",
   "execution_count": null,
   "id": "8e118373-86f2-49a1-848a-3377e7cc987a",
   "metadata": {},
   "outputs": [],
   "source": []
  }
 ],
 "metadata": {
  "kernelspec": {
   "display_name": "Python 3 (ipykernel)",
   "language": "python",
   "name": "python3"
  },
  "language_info": {
   "codemirror_mode": {
    "name": "ipython",
    "version": 3
   },
   "file_extension": ".py",
   "mimetype": "text/x-python",
   "name": "python",
   "nbconvert_exporter": "python",
   "pygments_lexer": "ipython3",
   "version": "3.11.5"
  }
 },
 "nbformat": 4,
 "nbformat_minor": 5
}
